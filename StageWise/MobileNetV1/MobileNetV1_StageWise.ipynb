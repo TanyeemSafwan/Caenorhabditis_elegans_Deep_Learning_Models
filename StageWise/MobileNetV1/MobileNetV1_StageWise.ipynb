{
 "cells": [
  {
   "cell_type": "code",
   "execution_count": 1,
   "id": "65c35ee0",
   "metadata": {},
   "outputs": [
    {
     "name": "stdout",
     "output_type": "stream",
     "text": [
      "cuda\n",
      "['stage1', 'stage2', 'stage3', 'stage4', 'stage5', 'stage6', 'stage7', 'stage8', 'stage9']\n"
     ]
    }
   ],
   "source": [
    "#Load libraries\n",
    "import os\n",
    "import numpy as np\n",
    "import torch\n",
    "import glob\n",
    "import torch.nn as nn\n",
    "from torchvision.transforms import transforms\n",
    "from torch.utils.data import DataLoader\n",
    "from torch.optim import Adam\n",
    "from torch.autograd import Variable\n",
    "import torchvision\n",
    "import pathlib\n",
    "from sklearn.metrics import confusion_matrix\n",
    "import seaborn as sn\n",
    "import pandas as pd\n",
    "import matplotlib.pyplot as plt\n",
    "\n",
    "\n",
    "#checking for device\n",
    "device=torch.device('cuda' if torch.cuda.is_available() else 'cpu')\n",
    "print(device)\n",
    "#Transforms\n",
    "transformer=transforms.Compose([\n",
    "    transforms.Resize((300,300)),\n",
    "    transforms.RandomHorizontalFlip(),\n",
    "    transforms.ToTensor(),  #0-255 to 0-1, numpy to tensors\n",
    "    torchvision.transforms.Grayscale(num_output_channels=1)\n",
    "])\n",
    "\n",
    "#dataloader\n",
    "train_path =  r\"C:\\Datasets\\Train_set\"\n",
    "test_path = r\"C:\\Datasets\\Test_set\"\n",
    "train_loader=DataLoader(\n",
    "    torchvision.datasets.ImageFolder(train_path,transform=transformer),\n",
    "    batch_size=64, shuffle=True\n",
    ")\n",
    "test_loader=DataLoader(\n",
    "    torchvision.datasets.ImageFolder(test_path,transform=transformer),\n",
    "    batch_size=32, shuffle=True\n",
    ")\n",
    "#categories\n",
    "root=pathlib.Path(train_path)\n",
    "classes=sorted([j.name.split('/')[-1] for j in root.iterdir()])\n",
    "print(classes)"
   ]
  },
  {
   "cell_type": "code",
   "execution_count": 2,
   "id": "2f7d8ee7",
   "metadata": {},
   "outputs": [],
   "source": [
    "import torch.nn as nn\n",
    "\n",
    "class MobileNetV1(nn.Module):\n",
    "    def __init__(self, input_channel, n_classes):\n",
    "        super().__init__()\n",
    "\n",
    "        def conv_bn(inp, oup, stride):\n",
    "            return nn.Sequential(\n",
    "                nn.Conv2d(inp, oup, 3, stride, 1, bias=False),\n",
    "                nn.BatchNorm2d(oup),\n",
    "                nn.ReLU(inplace=True)\n",
    "                )\n",
    "\n",
    "        def conv_dw(inp, oup, stride):\n",
    "            return nn.Sequential(\n",
    "                # dw\n",
    "                nn.Conv2d(inp, inp, 3, stride, 1, groups=inp, bias=False),\n",
    "                nn.BatchNorm2d(inp),\n",
    "                nn.ReLU(inplace=True),\n",
    "\n",
    "                # pw\n",
    "                nn.Conv2d(inp, oup, 1, 1, 0, bias=False),\n",
    "                nn.BatchNorm2d(oup),\n",
    "                nn.ReLU(inplace=True),\n",
    "                )\n",
    "\n",
    "        self.model = nn.Sequential(\n",
    "            conv_bn(input_channel, 32, 2),\n",
    "            conv_dw(32, 64, 1),\n",
    "            conv_dw(64, 128, 2),\n",
    "            conv_dw(128, 128, 1),\n",
    "            conv_dw(128, 256, 2),\n",
    "            conv_dw(256, 256, 1),\n",
    "            conv_dw(256, 512, 2),\n",
    "            conv_dw(512, 512, 1),\n",
    "            conv_dw(512, 512, 1),\n",
    "            conv_dw(512, 512, 1),\n",
    "            conv_dw(512, 512, 1),\n",
    "            conv_dw(512, 512, 1),\n",
    "            conv_dw(512, 1024, 2),\n",
    "            conv_dw(1024, 1024, 1),\n",
    "            nn.AvgPool2d(7)\n",
    "        )\n",
    "        self.fc = nn.Linear(1024, n_classes)\n",
    "\n",
    "        self.model.apply(self.init_weights)\n",
    "        self.fc.apply(self.init_weights)\n",
    "\n",
    "    def init_weights(self, layer):\n",
    "        if type(layer) == nn.Conv2d:\n",
    "            nn.init.kaiming_normal_(layer.weight, mode='fan_out')\n",
    "        if type(layer) == nn.Linear:\n",
    "            nn.init.normal_(layer.weight, std=1e-3)\n",
    "        if type(layer) == nn.BatchNorm2d:\n",
    "            nn.init.constant_(layer.weight, 1)\n",
    "            nn.init.constant_(layer.bias, 0)\n",
    "\n",
    "    def forward(self, x):\n",
    "        x = self.model(x)\n",
    "        x = x.view(-1, 1024)\n",
    "        x = self.fc(x)\n",
    "        return x\n",
    "            "
   ]
  },
  {
   "cell_type": "code",
   "execution_count": 3,
   "id": "c849079e",
   "metadata": {},
   "outputs": [
    {
     "name": "stdout",
     "output_type": "stream",
     "text": [
      "77626 23645\n"
     ]
    }
   ],
   "source": [
    "model=MobileNetV1(input_channel=1, n_classes=9).to(device)\n",
    "#Optmizer and loss function\n",
    "optimizer=Adam(model.parameters(),lr=0.001,weight_decay=0.0001)\n",
    "loss_function=nn.CrossEntropyLoss()\n",
    "#calculating the size of training and testing images\n",
    "train_count=len(glob.glob(train_path+'/**/*.jpg'))\n",
    "test_count=len(glob.glob(test_path+'/**/*.jpg'))\n",
    "print(train_count,test_count)"
   ]
  },
  {
   "cell_type": "code",
   "execution_count": 4,
   "id": "c1d5c71c",
   "metadata": {},
   "outputs": [],
   "source": [
    "import torch\n",
    "import shutil\n",
    "def save_ckp(state, is_best, checkpoint_path, best_model_path):\n",
    "    f_path = checkpoint_path\n",
    "    torch.save(state, f_path)\n",
    "    if is_best:\n",
    "        best_fpath = best_model_path\n",
    "        shutil.copyfile(f_path, best_fpath)"
   ]
  },
  {
   "cell_type": "code",
   "execution_count": 5,
   "id": "8accf0a1",
   "metadata": {},
   "outputs": [],
   "source": [
    "y_pred = []\n",
    "y_true = []\n",
    "train_losses = []\n",
    "test_accuracies = []\n",
    "best_accuracy= 0.0\n",
    "test_accuracy=0.0\n",
    "train_accuracy=0.0\n",
    "train_loss=0.0"
   ]
  },
  {
   "cell_type": "code",
   "execution_count": 6,
   "id": "a5d6f2cc",
   "metadata": {},
   "outputs": [],
   "source": [
    "def train_test(start_epochs, best_accuracy,train_accuracy,test_accuracy,train_loss, train_losses, test_accuracies,y_true,y_pred):\n",
    "    #Model training and saving best model\n",
    "\n",
    "    for epoch in range(start_epochs, num_epochs+1):\n",
    "\n",
    "        #Evaluation and training on training dataset\n",
    "        model.train()\n",
    "\n",
    "        for i, (images,labels) in enumerate(train_loader):\n",
    "            if torch.cuda.is_available():\n",
    "                images=Variable(images.cuda())\n",
    "                labels=Variable(labels.cuda())\n",
    "\n",
    "            optimizer.zero_grad()\n",
    "\n",
    "            outputs=model(images)\n",
    "            loss=loss_function(outputs,labels)\n",
    "            loss.backward()\n",
    "            optimizer.step()\n",
    "\n",
    "            train_loss+= loss.cpu().data*images.size(0)\n",
    "            _,prediction=torch.max(outputs.data,1)\n",
    "\n",
    "            train_accuracy+=int(torch.sum(prediction==labels.data))\n",
    "\n",
    "        train_accuracy=train_accuracy/train_count\n",
    "        train_loss=train_loss/train_count\n",
    "\n",
    "        # Evaluation on testing dataset\n",
    "        model.eval()\n",
    "\n",
    "        for i, (images,labels) in enumerate(test_loader):\n",
    "            if torch.cuda.is_available():\n",
    "                images=Variable(images.cuda())\n",
    "                labels=Variable(labels.cuda())\n",
    "\n",
    "            outputs=model(images)\n",
    "            _,prediction=torch.max(outputs.data,1)\n",
    "            test_accuracy+=int(torch.sum(prediction==labels.data))\n",
    "\n",
    "            output = (torch.max(torch.exp(outputs), 1)[1]).data.cpu().numpy()\n",
    "            y_pred.extend(output) # Save Prediction\n",
    "\n",
    "            labels = labels.data.cpu().numpy()\n",
    "            y_true.extend(labels) # Save Truth\n",
    "\n",
    "        test_accuracy=test_accuracy/test_count\n",
    "\n",
    "        print('Epoch: '+str(epoch)+' Train Loss: '+str(train_loss)+' Train Accuracy: '+str(train_accuracy)+' Test Accuracy: '+str(test_accuracy))\n",
    "        \n",
    "        train_losses.append(train_loss.item())\n",
    "        test_accuracies.append(test_accuracy)\n",
    "        checkpoint = {\n",
    "                'start_epoch': epoch + 1,\n",
    "                'state_dict': model.state_dict(),\n",
    "                'optimizer': optimizer.state_dict(),\n",
    "                'best_accuracy': best_accuracy,\n",
    "                'train_accuracy': train_accuracy,\n",
    "                'test_accuracy': test_accuracy,\n",
    "                'train_loss': train_loss,\n",
    "                'train_losses':train_losses,\n",
    "                'test_accuracies': test_accuracies,\n",
    "                'y_true': y_true,\n",
    "                'y_pred': y_pred\n",
    "        }\n",
    "        save_ckp(checkpoint, False, checkpoint_path='current_checkpoint_mobilenetv1_stagewise.pt', best_model_path='best_checkpoint_mobilenetv1_stagewise.model')\n",
    "        #Save the best model\n",
    "        if test_accuracy>best_accuracy:\n",
    "            torch.save(model.state_dict(),'best_checkpoint_mobilenetv1_stagewise.model')\n",
    "            best_accuracy=test_accuracy\n",
    "            checkpoint['best_accuracy']=best_accuracy\n",
    "            save_ckp(checkpoint, True, checkpoint_path='current_checkpoint_mobilenetv1_stagewise.pt', best_model_path='best_checkpoint_mobilenetv1_stagewise.model')"
   ]
  },
  {
   "cell_type": "code",
   "execution_count": 7,
   "id": "ab2d2c07",
   "metadata": {},
   "outputs": [],
   "source": [
    "def load_ckp(checkpoint_fpath, model, optimizer):\n",
    "    checkpoint = torch.load(checkpoint_fpath)\n",
    "    model.load_state_dict(checkpoint['state_dict'])\n",
    "    optimizer.load_state_dict(checkpoint['optimizer'])\n",
    "    best_accuracy = checkpoint['best_accuracy']\n",
    "    train_accuracy = checkpoint['train_accuracy']\n",
    "    test_accuracy = checkpoint['test_accuracy']\n",
    "    train_loss = checkpoint['train_loss']    \n",
    "    train_losses = checkpoint['train_losses']    \n",
    "    test_accuracies = checkpoint['test_accuracies']   \n",
    "    start_epoch = checkpoint['start_epoch']\n",
    "    y_true = checkpoint['y_true']\n",
    "    y_pred = checkpoint['y_pred']\n",
    "    return model, optimizer,start_epoch,best_accuracy, train_accuracy,test_accuracy,train_loss.item(),train_losses,test_accuracies,y_true,y_pred"
   ]
  },
  {
   "cell_type": "code",
   "execution_count": 8,
   "id": "30b6ea3e",
   "metadata": {},
   "outputs": [],
   "source": [
    "def conf_matrix(y_true,y_pred):\n",
    "     # constant for classes\n",
    "   # classes = ('L4', 'day1', 'day10', 'day11', 'day12', 'day13', 'day14', 'day15', 'day16', 'day17', 'day18', 'day19', 'day2', 'day20', 'day21', 'day3', 'day4', 'day5', 'day6', 'day7', 'day8', 'day9', 'others')\n",
    "\n",
    "    # Build confusion matrix\n",
    "    cf_matrix = confusion_matrix(y_true, y_pred)\n",
    "    df_cm = pd.DataFrame(cf_matrix/np.sum(cf_matrix), index = [i for i in classes],\n",
    "                         columns = [i for i in classes])\n",
    "    plt.figure(figsize = (12,7))\n",
    "    sn.heatmap(df_cm, annot=True)\n",
    "    plt.savefig('output.png')"
   ]
  },
  {
   "cell_type": "code",
   "execution_count": 9,
   "id": "8fa51ef9",
   "metadata": {},
   "outputs": [],
   "source": [
    "def learn_curve_train_losses(train_losses):\n",
    "    plt.plot(train_losses,'-o')\n",
    "    plt.xlabel('epoch')\n",
    "    plt.ylabel('losses')\n",
    "    plt.legend(['Train'])\n",
    "    plt.title('Train Losses Per Epoch')\n",
    "\n",
    "    plt.show()\n",
    "    \n",
    "def learn_curve_test_accuracies(test_accuracies):\n",
    "    plt.plot(test_accuracies,'-r')\n",
    "    plt.xlabel('epoch')\n",
    "    plt.ylabel('test_accuracy')\n",
    "    plt.legend(['Test Accuracy'])\n",
    "    plt.title('Test Accuracy Per Epoch')\n",
    "    plt.show()\n"
   ]
  },
  {
   "cell_type": "code",
   "execution_count": null,
   "id": "940d38db",
   "metadata": {},
   "outputs": [
    {
     "name": "stdout",
     "output_type": "stream",
     "text": [
      "Epoch: 1 Train Loss: tensor(1.3857) Train Accuracy: 0.4393373354288512 Test Accuracy: 0.5083104250370057\n"
     ]
    }
   ],
   "source": [
    "num_epochs = 40\n",
    "\n",
    "import os.path\n",
    "\n",
    "if os.path.isfile(\"current_checkpoint_mobilenetv1_stagewise.pt\"):\n",
    "    ckp_path = \"current_checkpoint_mobilenetv1_stagewise.pt\"\n",
    "    model, optimizer, start_epoch, best_accuracy, train_accuracy,test_accuracy,train_loss,train_losses,test_accuracies,y_true,y_pred  = load_ckp(ckp_path, model, optimizer)\n",
    "    train_test(start_epoch, best_accuracy,train_accuracy,test_accuracy,train_loss, train_losses, test_accuracies,y_true,y_pred)\n",
    "else:\n",
    "    train_test(1,best_accuracy, train_accuracy,test_accuracy,train_loss, train_losses, test_accuracies,y_true,y_pred)\n"
   ]
  },
  {
   "cell_type": "code",
   "execution_count": null,
   "id": "c60ea35d",
   "metadata": {
    "scrolled": true
   },
   "outputs": [
    {
     "name": "stdout",
     "output_type": "stream",
     "text": [
      "Epoch: 2 Train Loss: tensor(0.8175) Train Accuracy: 0.6873269180085979 Test Accuracy: 0.642948120550858\n",
      "Epoch: 3 Train Loss: tensor(0.5852) Train Accuracy: 0.7797862485110402 Test Accuracy: 0.7032625480279361\n",
      "Epoch: 4 Train Loss: tensor(0.4868) Train Accuracy: 0.8191685747848467 Test Accuracy: 0.6816537645399885\n",
      "Epoch: 5 Train Loss: tensor(0.4172) Train Accuracy: 0.846891752358421 Test Accuracy: 0.6845710151729557\n",
      "Epoch: 6 Train Loss: tensor(0.3703) Train Accuracy: 0.8648242456361575 Test Accuracy: 0.768859571622549\n",
      "Epoch: 7 Train Loss: tensor(0.3306) Train Accuracy: 0.8811978567006626 Test Accuracy: 0.7748263421260996\n",
      "Epoch: 8 Train Loss: tensor(0.3048) Train Accuracy: 0.8899451369110442 Test Accuracy: 0.7554144566014857\n",
      "Epoch: 9 Train Loss: tensor(0.2794) Train Accuracy: 0.8993750798074989 Test Accuracy: 0.7446714068283613\n",
      "Epoch: 10 Train Loss: tensor(0.2613) Train Accuracy: 0.9058807535500968 Test Accuracy: 0.763490999002192\n",
      "Epoch: 11 Train Loss: tensor(0.2452) Train Accuracy: 0.9135973241021507 Test Accuracy: 0.7752067452315078\n",
      "Epoch: 12 Train Loss: tensor(0.2305) Train Accuracy: 0.9171271686976542 Test Accuracy: 0.7788866655421963\n",
      "Epoch: 13 Train Loss: tensor(0.2189) Train Accuracy: 0.9218936584027091 Test Accuracy: 0.7955499634876525\n",
      "Epoch: 14 Train Loss: tensor(0.2025) Train Accuracy: 0.9271625730252545 Test Accuracy: 0.7872190970591452\n",
      "Epoch: 15 Train Loss: tensor(0.1989) Train Accuracy: 0.9289661603402601 Test Accuracy: 0.7937317495917555\n",
      "Epoch: 16 Train Loss: tensor(0.1849) Train Accuracy: 0.9346859166537029 Test Accuracy: 0.8015560893106193\n",
      "Epoch: 17 Train Loss: tensor(0.1830) Train Accuracy: 0.9349694005348292 Test Accuracy: 0.7937323559352637\n",
      "Epoch: 18 Train Loss: tensor(0.1701) Train Accuracy: 0.9394266736583172 Test Accuracy: 0.796015805978259\n",
      "Epoch: 19 Train Loss: tensor(0.1659) Train Accuracy: 0.94164248353224 Test Accuracy: 0.7500019461114815\n",
      "Epoch: 20 Train Loss: tensor(0.1638) Train Accuracy: 0.9413719841610225 Test Accuracy: 0.8073059844341768\n",
      "Epoch: 21 Train Loss: tensor(0.1545) Train Accuracy: 0.945107842372197 Test Accuracy: 0.8152170567132346\n",
      "Epoch: 22 Train Loss: tensor(0.1487) Train Accuracy: 0.9473880543611982 Test Accuracy: 0.8097194001715674\n",
      "Epoch: 23 Train Loss: tensor(0.1449) Train Accuracy: 0.949217367738314 Test Accuracy: 0.8218993326030946\n",
      "Epoch: 24 Train Loss: tensor(0.1425) Train Accuracy: 0.9502737384042427 Test Accuracy: 0.8229571537040643\n",
      "Epoch: 25 Train Loss: tensor(0.1356) Train Accuracy: 0.9525152690302012 Test Accuracy: 0.8162750246205839\n"
     ]
    }
   ],
   "source": [
    "num_epochs = 40\n",
    "\n",
    "import os.path\n",
    "\n",
    "if os.path.isfile(\"current_checkpoint_mobilenetv1_stagewise.pt\"):\n",
    "    ckp_path = \"current_checkpoint_mobilenetv1_stagewise.pt\"\n",
    "    model, optimizer, start_epoch, best_accuracy, train_accuracy,test_accuracy,train_loss,train_losses,test_accuracies,y_true,y_pred  = load_ckp(ckp_path, model, optimizer)\n",
    "    train_test(start_epoch, best_accuracy,train_accuracy,test_accuracy,train_loss, train_losses, test_accuracies,y_true,y_pred)\n",
    "else:\n",
    "    train_test(1,best_accuracy, train_accuracy,test_accuracy,train_loss, train_losses, test_accuracies,y_true,y_pred)\n"
   ]
  },
  {
   "cell_type": "code",
   "execution_count": null,
   "id": "250cf810",
   "metadata": {},
   "outputs": [
    {
     "name": "stdout",
     "output_type": "stream",
     "text": [
      "Epoch: 26 Train Loss: tensor(0.1352) Train Accuracy: 0.9520515357646798 Test Accuracy: 0.8316268249111702\n",
      "Epoch: 27 Train Loss: tensor(0.1314) Train Accuracy: 0.9535716390324862 Test Accuracy: 0.8168674826316308\n",
      "Epoch: 28 Train Loss: tensor(0.1281) Train Accuracy: 0.9554653540262158 Test Accuracy: 0.8205885754909127\n",
      "Epoch: 29 Train Loss: tensor(0.1275) Train Accuracy: 0.955607083520393 Test Accuracy: 0.8200389337523997\n",
      "Epoch: 30 Train Loss: tensor(0.1208) Train Accuracy: 0.9581835416881396 Test Accuracy: 0.813483613403838\n",
      "Epoch: 31 Train Loss: tensor(0.1178) Train Accuracy: 0.958209339442219 Test Accuracy: 0.8212228159701165\n",
      "Epoch: 32 Train Loss: tensor(0.1215) Train Accuracy: 0.9561868215461242 Test Accuracy: 0.8306543126587426\n",
      "Epoch: 33 Train Loss: tensor(0.1102) Train Accuracy: 0.9603477724837237 Test Accuracy: 0.8057445825465283\n",
      "Epoch: 34 Train Loss: tensor(0.1127) Train Accuracy: 0.9604895311850732 Test Accuracy: 0.837631877546312\n",
      "Epoch: 35 Train Loss: tensor(0.1110) Train Accuracy: 0.9612495876321232 Test Accuracy: 0.834715061614614\n",
      "Epoch: 36 Train Loss: tensor(0.1065) Train Accuracy: 0.9629114117639404 Test Accuracy: 0.8295129928129251\n",
      "Epoch: 37 Train Loss: tensor(0.1051) Train Accuracy: 0.9630789028342536 Test Accuracy: 0.8217732930003304\n",
      "Epoch: 38 Train Loss: tensor(0.1045) Train Accuracy: 0.9635040202883419 Test Accuracy: 0.8432574232731233\n"
     ]
    }
   ],
   "source": [
    "num_epochs = 40\n",
    "\n",
    "import os.path\n",
    "\n",
    "if os.path.isfile(\"current_checkpoint_mobilenetv1_stagewise.pt\"):\n",
    "    ckp_path = \"current_checkpoint_mobilenetv1_stagewise.pt\"\n",
    "    model, optimizer, start_epoch, best_accuracy, train_accuracy,test_accuracy,train_loss,train_losses,test_accuracies,y_true,y_pred  = load_ckp(ckp_path, model, optimizer)\n",
    "    train_test(start_epoch, best_accuracy,train_accuracy,test_accuracy,train_loss, train_losses, test_accuracies,y_true,y_pred)\n",
    "else:\n",
    "    train_test(1,best_accuracy, train_accuracy,test_accuracy,train_loss, train_losses, test_accuracies,y_true,y_pred)\n"
   ]
  },
  {
   "cell_type": "code",
   "execution_count": null,
   "id": "4401730f",
   "metadata": {},
   "outputs": [
    {
     "name": "stdout",
     "output_type": "stream",
     "text": [
      "Epoch: 39 Train Loss: tensor(0.0961) Train Accuracy: 0.9659645415713843 Test Accuracy: 0.8438504232363405\n",
      "Epoch: 40 Train Loss: tensor(0.1010) Train Accuracy: 0.9648953438866046 Test Accuracy: 0.838775379590748\n",
      "Epoch: 41 Train Loss: tensor(0.0952) Train Accuracy: 0.9674975510182656 Test Accuracy: 0.853281403061095\n",
      "Epoch: 42 Train Loss: tensor(0.0959) Train Accuracy: 0.9670080578356611 Test Accuracy: 0.8522247105689601\n",
      "Epoch: 43 Train Loss: tensor(0.0947) Train Accuracy: 0.9672656971640666 Test Accuracy: 0.839114071673105\n",
      "Epoch: 44 Train Loss: tensor(0.0947) Train Accuracy: 0.9670080548488543 Test Accuracy: 0.8370411974654969\n",
      "Epoch: 45 Train Loss: tensor(0.0936) Train Accuracy: 0.9671368743469309 Test Accuracy: 0.8309087350897638\n"
     ]
    }
   ],
   "source": [
    "num_epochs = 50\n",
    "\n",
    "import os.path\n",
    "\n",
    "if os.path.isfile(\"current_checkpoint_mobilenetv1_stagewise.pt\"):\n",
    "    ckp_path = \"current_checkpoint_mobilenetv1_stagewise.pt\"\n",
    "    model, optimizer, start_epoch, best_accuracy, train_accuracy,test_accuracy,train_loss,train_losses,test_accuracies,y_true,y_pred  = load_ckp(ckp_path, model, optimizer)\n",
    "    train_test(start_epoch, best_accuracy,train_accuracy,test_accuracy,train_loss, train_losses, test_accuracies,y_true,y_pred)\n",
    "else:\n",
    "    train_test(1,best_accuracy, train_accuracy,test_accuracy,train_loss, train_losses, test_accuracies,y_true,y_pred)\n"
   ]
  },
  {
   "cell_type": "code",
   "execution_count": 21,
   "id": "ffbd4e1c",
   "metadata": {},
   "outputs": [
    {
     "name": "stdout",
     "output_type": "stream",
     "text": [
      "Epoch: 46 Train Loss: tensor(0.0884) Train Accuracy: 0.9690305714177511 Test Accuracy: 0.8415661200564639\n",
      "Epoch: 47 Train Loss: tensor(0.0901) Train Accuracy: 0.9689533021226319 Test Accuracy: 0.8554807175352107\n",
      "Epoch: 48 Train Loss: tensor(0.0878) Train Accuracy: 0.970177117889652 Test Accuracy: 0.8474457805336238\n",
      "Epoch: 49 Train Loss: tensor(0.0880) Train Accuracy: 0.9696876069502214 Test Accuracy: 0.8643623364677748\n",
      "Epoch: 50 Train Loss: tensor(0.0842) Train Accuracy: 0.9704090084199488 Test Accuracy: 0.8581883849581928\n"
     ]
    }
   ],
   "source": [
    "num_epochs = 50\n",
    "\n",
    "import os.path\n",
    "\n",
    "if os.path.isfile(\"current_checkpoint_mobilenetv1_stagewise.pt\"):\n",
    "    ckp_path = \"current_checkpoint_mobilenetv1_stagewise.pt\"\n",
    "    model, optimizer, start_epoch, best_accuracy, train_accuracy,test_accuracy,train_loss,train_losses,test_accuracies,y_true,y_pred  = load_ckp(ckp_path, model, optimizer)\n",
    "    train_test(start_epoch, best_accuracy,train_accuracy,test_accuracy,train_loss, train_losses, test_accuracies,y_true,y_pred)\n",
    "else:\n",
    "    train_test(1,best_accuracy, train_accuracy,test_accuracy,train_loss, train_losses, test_accuracies,y_true,y_pred)\n"
   ]
  },
  {
   "cell_type": "code",
   "execution_count": 22,
   "id": "062ab435",
   "metadata": {},
   "outputs": [
    {
     "name": "stdout",
     "output_type": "stream",
     "text": [
      "Epoch: 51 Train Loss: tensor(0.0827) Train Accuracy: 0.971323659714637 Test Accuracy: 0.8577229092148428\n",
      "Epoch: 52 Train Loss: tensor(0.0834) Train Accuracy: 0.9710016144546894 Test Accuracy: 0.8461771081797088\n",
      "Epoch: 53 Train Loss: tensor(0.0805) Train Accuracy: 0.9723928967306631 Test Accuracy: 0.8704100730432726\n",
      "Epoch: 54 Train Loss: tensor(0.0784) Train Accuracy: 0.9732560275281057 Test Accuracy: 0.8578503028155231\n",
      "Epoch: 55 Train Loss: tensor(0.0809) Train Accuracy: 0.9719935750396456 Test Accuracy: 0.85666558893224\n"
     ]
    }
   ],
   "source": [
    "num_epochs = 55\n",
    "\n",
    "import os.path\n",
    "\n",
    "if os.path.isfile(\"current_checkpoint_mobilenetv1_stagewise.pt\"):\n",
    "    ckp_path = \"current_checkpoint_mobilenetv1_stagewise.pt\"\n",
    "    model, optimizer, start_epoch, best_accuracy, train_accuracy,test_accuracy,train_loss,train_losses,test_accuracies,y_true,y_pred  = load_ckp(ckp_path, model, optimizer)\n",
    "    train_test(start_epoch, best_accuracy,train_accuracy,test_accuracy,train_loss, train_losses, test_accuracies,y_true,y_pred)\n",
    "else:\n",
    "    train_test(1,best_accuracy, train_accuracy,test_accuracy,train_loss, train_losses, test_accuracies,y_true,y_pred)\n"
   ]
  },
  {
   "cell_type": "code",
   "execution_count": 23,
   "id": "306c0ca1",
   "metadata": {},
   "outputs": [
    {
     "name": "stdout",
     "output_type": "stream",
     "text": [
      "Epoch: 56 Train Loss: tensor(0.0784) Train Accuracy: 0.9732302578205118 Test Accuracy: 0.857892013769885\n",
      "Epoch: 57 Train Loss: tensor(0.0772) Train Accuracy: 0.9731787446249687 Test Accuracy: 0.8603027232824602\n",
      "Epoch: 58 Train Loss: tensor(0.0753) Train Accuracy: 0.9738357403285577 Test Accuracy: 0.86825376623909\n",
      "Epoch: 59 Train Loss: tensor(0.0760) Train Accuracy: 0.9736425145665154 Test Accuracy: 0.8594150244773203\n",
      "Epoch: 60 Train Loss: tensor(0.0755) Train Accuracy: 0.9737326880492949 Test Accuracy: 0.8542549974635008\n",
      "Epoch: 61 Train Loss: tensor(0.0743) Train Accuracy: 0.9740289816902592 Test Accuracy: 0.8729902412771183\n",
      "Epoch: 62 Train Loss: tensor(0.0727) Train Accuracy: 0.974582923620716 Test Accuracy: 0.8706226682275863\n",
      "Epoch: 63 Train Loss: tensor(0.0729) Train Accuracy: 0.9746215776018811 Test Accuracy: 0.8649554080214941\n",
      "Epoch: 64 Train Loss: tensor(0.0730) Train Accuracy: 0.9745829312547033 Test Accuracy: 0.8654626752128578\n",
      "Epoch: 65 Train Loss: tensor(0.0693) Train Accuracy: 0.9754975727582416 Test Accuracy: 0.8706223498699602\n",
      "Epoch: 66 Train Loss: tensor(0.0705) Train Accuracy: 0.9760772872178491 Test Accuracy: 0.8743442851490747\n",
      "Epoch: 67 Train Loss: tensor(0.0728) Train Accuracy: 0.9744283626270479 Test Accuracy: 0.8801807715916747\n",
      "Epoch: 68 Train Loss: tensor(0.0660) Train Accuracy: 0.9770820914173424 Test Accuracy: 0.8754865798592343\n",
      "Epoch: 69 Train Loss: tensor(0.0692) Train Accuracy: 0.9764508937996472 Test Accuracy: 0.8769666097094463\n",
      "Epoch: 70 Train Loss: tensor(0.0669) Train Accuracy: 0.9763607096964135 Test Accuracy: 0.8448245703789262\n",
      "Epoch: 71 Train Loss: tensor(0.0670) Train Accuracy: 0.9765281781968631 Test Accuracy: 0.8706637692776645\n",
      "Epoch: 72 Train Loss: tensor(0.0691) Train Accuracy: 0.976360710692013 Test Accuracy: 0.8784466341200794\n",
      "Epoch: 73 Train Loss: tensor(0.0637) Train Accuracy: 0.9779323469032372 Test Accuracy: 0.8671549353619844\n",
      "Epoch: 74 Train Loss: tensor(0.0648) Train Accuracy: 0.9780225431214657 Test Accuracy: 0.8698611611306982\n",
      "Epoch: 75 Train Loss: tensor(0.0652) Train Accuracy: 0.977133666845427 Test Accuracy: 0.8765011571647762\n"
     ]
    }
   ],
   "source": [
    "num_epochs = 75\n",
    "\n",
    "import os.path\n",
    "\n",
    "if os.path.isfile(\"current_checkpoint_mobilenetv1_stagewise.pt\"):\n",
    "    ckp_path = \"current_checkpoint_mobilenetv1_stagewise.pt\"\n",
    "    model, optimizer, start_epoch, best_accuracy, train_accuracy,test_accuracy,train_loss,train_losses,test_accuracies,y_true,y_pred  = load_ckp(ckp_path, model, optimizer)\n",
    "    train_test(start_epoch, best_accuracy,train_accuracy,test_accuracy,train_loss, train_losses, test_accuracies,y_true,y_pred)\n",
    "else:\n",
    "    train_test(1,best_accuracy, train_accuracy,test_accuracy,train_loss, train_losses, test_accuracies,y_true,y_pred)\n"
   ]
  },
  {
   "cell_type": "code",
   "execution_count": 10,
   "id": "7daad423",
   "metadata": {},
   "outputs": [
    {
     "name": "stdout",
     "output_type": "stream",
     "text": [
      "Epoch: 76 Train Loss: tensor(0.0648) Train Accuracy: 0.977842180888708 Test Accuracy: 0.8819148446249595\n",
      "Epoch: 77 Train Loss: tensor(0.0642) Train Accuracy: 0.9777262494805978 Test Accuracy: 0.8735412101858586\n",
      "Epoch: 78 Train Loss: tensor(0.0635) Train Accuracy: 0.9788985356227229 Test Accuracy: 0.8703266458536767\n",
      "Epoch: 79 Train Loss: tensor(0.0609) Train Accuracy: 0.9787568456256361 Test Accuracy: 0.8778968207505119\n",
      "Epoch: 80 Train Loss: tensor(0.0593) Train Accuracy: 0.9795555452663492 Test Accuracy: 0.8875820637268239\n",
      "Epoch: 81 Train Loss: tensor(0.0642) Train Accuracy: 0.9783446210747077 Test Accuracy: 0.8841990941875122\n",
      "Epoch: 82 Train Loss: tensor(0.0613) Train Accuracy: 0.9789114258704696 Test Accuracy: 0.8762903023512026\n",
      "Epoch: 83 Train Loss: tensor(0.0597) Train Accuracy: 0.9797101346382124 Test Accuracy: 0.866562752814648\n",
      "Epoch: 84 Train Loss: tensor(0.0593) Train Accuracy: 0.9799162614347594 Test Accuracy: 0.8841559129944095\n",
      "Epoch: 85 Train Loss: tensor(0.0593) Train Accuracy: 0.9797745589913358 Test Accuracy: 0.8559054411466692\n",
      "Epoch: 86 Train Loss: tensor(0.0581) Train Accuracy: 0.9801610256171771 Test Accuracy: 0.8709179913487479\n",
      "Epoch: 87 Train Loss: tensor(0.0593) Train Accuracy: 0.9795942102005207 Test Accuracy: 0.8836062980753373\n",
      "Epoch: 88 Train Loss: tensor(0.0574) Train Accuracy: 0.9796070851803544 Test Accuracy: 0.878743227164224\n",
      "Epoch: 89 Train Loss: tensor(0.0565) Train Accuracy: 0.9809210780806067 Test Accuracy: 0.8789544826909352\n",
      "Epoch: 90 Train Loss: tensor(0.0571) Train Accuracy: 0.9803285100491856 Test Accuracy: 0.8727798246767896\n",
      "Epoch: 91 Train Loss: tensor(0.0548) Train Accuracy: 0.9815265546145627 Test Accuracy: 0.8645748690981043\n",
      "Epoch: 92 Train Loss: tensor(0.0556) Train Accuracy: 0.9807922799906554 Test Accuracy: 0.8587381930585366\n",
      "Epoch: 93 Train Loss: tensor(0.0584) Train Accuracy: 0.9803542729533918 Test Accuracy: 0.8630940468679661\n",
      "Epoch: 94 Train Loss: tensor(0.0533) Train Accuracy: 0.9819130233977398 Test Accuracy: 0.8859320403487785\n",
      "Epoch: 95 Train Loss: tensor(0.0520) Train Accuracy: 0.9819774548865509 Test Accuracy: 0.8984938013127659\n",
      "Epoch: 96 Train Loss: tensor(0.0584) Train Accuracy: 0.9802254654040512 Test Accuracy: 0.8727383587989559\n",
      "Epoch: 97 Train Loss: tensor(0.0539) Train Accuracy: 0.9816682583859198 Test Accuracy: 0.8831411604296383\n",
      "Epoch: 98 Train Loss: tensor(0.0536) Train Accuracy: 0.9819774517334189 Test Accuracy: 0.8184344741450805\n",
      "Epoch: 99 Train Loss: tensor(0.0551) Train Accuracy: 0.9814235176030163 Test Accuracy: 0.8844076309779719\n",
      "Epoch: 100 Train Loss: tensor(0.0508) Train Accuracy: 0.9826215626660861 Test Accuracy: 0.8832262384280387\n",
      "Epoch: 101 Train Loss: tensor(0.0548) Train Accuracy: 0.9808953523505355 Test Accuracy: 0.8911771294666284\n",
      "Epoch: 102 Train Loss: tensor(0.0509) Train Accuracy: 0.9827761432426294 Test Accuracy: 0.8903316209401338\n",
      "Epoch: 103 Train Loss: tensor(0.0494) Train Accuracy: 0.983239929613058 Test Accuracy: 0.8828881510518477\n",
      "Epoch: 104 Train Loss: tensor(0.0525) Train Accuracy: 0.9828405848546828 Test Accuracy: 0.8715112238592113\n",
      "Epoch: 105 Train Loss: tensor(0.0509) Train Accuracy: 0.9824927581040483 Test Accuracy: 0.8151774798572153\n"
     ]
    }
   ],
   "source": [
    "num_epochs = 105\n",
    "\n",
    "import os.path\n",
    "\n",
    "if os.path.isfile(\"current_checkpoint_mobilenetv1_stagewise.pt\"):\n",
    "    ckp_path = \"current_checkpoint_mobilenetv1_stagewise.pt\"\n",
    "    model, optimizer, start_epoch, best_accuracy, train_accuracy,test_accuracy,train_loss,train_losses,test_accuracies,y_true,y_pred  = load_ckp(ckp_path, model, optimizer)\n",
    "    train_test(start_epoch, best_accuracy,train_accuracy,test_accuracy,train_loss, train_losses, test_accuracies,y_true,y_pred)\n",
    "else:\n",
    "    train_test(1,best_accuracy, train_accuracy,test_accuracy,train_loss, train_losses, test_accuracies,y_true,y_pred)\n"
   ]
  }
 ],
 "metadata": {
  "kernelspec": {
   "display_name": "Python 3 (ipykernel)",
   "language": "python",
   "name": "python3"
  },
  "language_info": {
   "codemirror_mode": {
    "name": "ipython",
    "version": 3
   },
   "file_extension": ".py",
   "mimetype": "text/x-python",
   "name": "python",
   "nbconvert_exporter": "python",
   "pygments_lexer": "ipython3",
   "version": "3.9.12"
  }
 },
 "nbformat": 4,
 "nbformat_minor": 5
}
